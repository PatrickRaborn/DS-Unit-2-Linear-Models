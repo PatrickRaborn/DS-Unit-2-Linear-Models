{
  "nbformat": 4,
  "nbformat_minor": 0,
  "metadata": {
    "kernelspec": {
      "display_name": "Python 3",
      "language": "python",
      "name": "python3"
    },
    "language_info": {
      "codemirror_mode": {
        "name": "ipython",
        "version": 3
      },
      "file_extension": ".py",
      "mimetype": "text/x-python",
      "name": "python",
      "nbconvert_exporter": "python",
      "pygments_lexer": "ipython3",
      "version": "3.7.3"
    },
    "colab": {
      "name": "LS_DS_211_assignment.ipynb",
      "provenance": []
    }
  },
  "cells": [
    {
      "cell_type": "markdown",
      "metadata": {
        "id": "fDYi49JQhy6t"
      },
      "source": [
        "Lambda School Data Science\n",
        "\n",
        "*Unit 2, Sprint 1, Module 1*\n",
        "\n",
        "---"
      ]
    },
    {
      "cell_type": "markdown",
      "metadata": {
        "id": "7IXUfiQ2UKj6"
      },
      "source": [
        "# Regression 1\n",
        "\n",
        "## Assignment\n",
        "\n",
        "You'll use another **New York City** real estate dataset. \n",
        "\n",
        "But now you'll **predict how much it costs to rent an apartment**, instead of how much it costs to buy a condo.\n",
        "\n",
        "The data comes from renthop.com, an apartment listing website.\n",
        "\n",
        "- [x] Look at the data. Choose a feature, and plot its relationship with the target.\n",
        "- [x] Use scikit-learn for linear regression with one feature. You can follow the [5-step process from Jake VanderPlas](https://jakevdp.github.io/PythonDataScienceHandbook/05.02-introducing-scikit-learn.html#Basics-of-the-API).\n",
        "- [x] Define a function to make new predictions and explain the model coefficient.\n",
        "- [x] Organize and comment your code.\n",
        "\n",
        "> [Do Not Copy-Paste.](https://docs.google.com/document/d/1ubOw9B3Hfip27hF2ZFnW3a3z9xAgrUDRReOEo-FHCVs/edit) You must type each of these exercises in, manually. If you copy and paste, you might as well not even do them. The point of these exercises is to train your hands, your brain, and your mind in how to read, write, and see code. If you copy-paste, you are cheating yourself out of the effectiveness of the lessons.\n",
        "\n",
        "If your **Plotly** visualizations aren't working:\n",
        "- You must have JavaScript enabled in your browser\n",
        "- You probably want to use Chrome or Firefox\n",
        "- You may need to turn off ad blockers\n",
        "- [If you're using Jupyter Lab locally, you need to install some \"extensions\"](https://plot.ly/python/getting-started/#jupyterlab-support-python-35)\n",
        "\n",
        "## Stretch Goals\n",
        "- [x] Do linear regression with two or more features.\n",
        "- [ ] Read [The Discovery of Statistical Regression](https://priceonomics.com/the-discovery-of-statistical-regression/)\n",
        "- [ ] Read [_An Introduction to Statistical Learning_](http://faculty.marshall.usc.edu/gareth-james/ISL/ISLR%20Seventh%20Printing.pdf), Chapter 2.1: What Is Statistical Learning?"
      ]
    },
    {
      "cell_type": "code",
      "metadata": {
        "id": "o9eSnDYhUGD7"
      },
      "source": [
        "import sys\n",
        "\n",
        "# If you're on Colab:\n",
        "if 'google.colab' in sys.modules:\n",
        "    DATA_PATH = 'https://raw.githubusercontent.com/LambdaSchool/DS-Unit-2-Applied-Modeling/master/data/'\n",
        "\n",
        "# If you're working locally:\n",
        "else:\n",
        "    DATA_PATH = '../data/'\n",
        "    \n",
        "# Ignore this Numpy warning when using Plotly Express:\n",
        "# FutureWarning: Method .ptp is deprecated and will be removed in a future version. Use numpy.ptp instead.\n",
        "import warnings\n",
        "warnings.filterwarnings(action='ignore', category=FutureWarning, module='numpy')"
      ],
      "execution_count": 122,
      "outputs": []
    },
    {
      "cell_type": "code",
      "metadata": {
        "id": "4S2wXSrFV_g4"
      },
      "source": [
        "# Read New York City apartment rental listing data\n",
        "import pandas as pd\n",
        "df = pd.read_csv(DATA_PATH+'apartments/renthop-nyc.csv')\n",
        "assert df.shape == (49352, 34)"
      ],
      "execution_count": 123,
      "outputs": []
    },
    {
      "cell_type": "code",
      "metadata": {
        "id": "Ezsy3Tu5hy60"
      },
      "source": [
        "# Remove outliers: \n",
        "# the most extreme 1% prices,\n",
        "# the most extreme .1% latitudes, &\n",
        "# the most extreme .1% longitudes\n",
        "df = df[(df['price'] >= 1375) & (df['price'] <= 15500) & \n",
        "        (df['latitude'] >=40.57) & (df['latitude'] < 40.99) &\n",
        "        (df['longitude'] >= -74.1) & (df['longitude'] <= -73.38)]"
      ],
      "execution_count": 124,
      "outputs": []
    },
    {
      "cell_type": "code",
      "metadata": {
        "colab": {
          "base_uri": "https://localhost:8080/"
        },
        "id": "x4ASSO7w7qEq",
        "outputId": "19a4bb84-781a-45fe-fdd7-a7294ffcfb84"
      },
      "source": [
        "#EDA into data types and feature selection\r\n",
        "df.info()"
      ],
      "execution_count": 125,
      "outputs": [
        {
          "output_type": "stream",
          "text": [
            "<class 'pandas.core.frame.DataFrame'>\n",
            "Int64Index: 48818 entries, 0 to 49351\n",
            "Data columns (total 34 columns):\n",
            " #   Column                Non-Null Count  Dtype  \n",
            "---  ------                --------------  -----  \n",
            " 0   bathrooms             48818 non-null  float64\n",
            " 1   bedrooms              48818 non-null  int64  \n",
            " 2   created               48818 non-null  object \n",
            " 3   description           47393 non-null  object \n",
            " 4   display_address       48685 non-null  object \n",
            " 5   latitude              48818 non-null  float64\n",
            " 6   longitude             48818 non-null  float64\n",
            " 7   price                 48818 non-null  int64  \n",
            " 8   street_address        48808 non-null  object \n",
            " 9   interest_level        48818 non-null  object \n",
            " 10  elevator              48818 non-null  int64  \n",
            " 11  cats_allowed          48818 non-null  int64  \n",
            " 12  hardwood_floors       48818 non-null  int64  \n",
            " 13  dogs_allowed          48818 non-null  int64  \n",
            " 14  doorman               48818 non-null  int64  \n",
            " 15  dishwasher            48818 non-null  int64  \n",
            " 16  no_fee                48818 non-null  int64  \n",
            " 17  laundry_in_building   48818 non-null  int64  \n",
            " 18  fitness_center        48818 non-null  int64  \n",
            " 19  pre-war               48818 non-null  int64  \n",
            " 20  laundry_in_unit       48818 non-null  int64  \n",
            " 21  roof_deck             48818 non-null  int64  \n",
            " 22  outdoor_space         48818 non-null  int64  \n",
            " 23  dining_room           48818 non-null  int64  \n",
            " 24  high_speed_internet   48818 non-null  int64  \n",
            " 25  balcony               48818 non-null  int64  \n",
            " 26  swimming_pool         48818 non-null  int64  \n",
            " 27  new_construction      48818 non-null  int64  \n",
            " 28  terrace               48818 non-null  int64  \n",
            " 29  exclusive             48818 non-null  int64  \n",
            " 30  loft                  48818 non-null  int64  \n",
            " 31  garden_patio          48818 non-null  int64  \n",
            " 32  wheelchair_access     48818 non-null  int64  \n",
            " 33  common_outdoor_space  48818 non-null  int64  \n",
            "dtypes: float64(3), int64(26), object(5)\n",
            "memory usage: 13.0+ MB\n"
          ],
          "name": "stdout"
        }
      ]
    },
    {
      "cell_type": "code",
      "metadata": {
        "colab": {
          "base_uri": "https://localhost:8080/",
          "height": 578
        },
        "id": "rKiB9wVG8xnW",
        "outputId": "08b602f8-b7eb-4a47-e768-fcc9933e788a"
      },
      "source": [
        "df.head(6)"
      ],
      "execution_count": 126,
      "outputs": [
        {
          "output_type": "execute_result",
          "data": {
            "text/html": [
              "<div>\n",
              "<style scoped>\n",
              "    .dataframe tbody tr th:only-of-type {\n",
              "        vertical-align: middle;\n",
              "    }\n",
              "\n",
              "    .dataframe tbody tr th {\n",
              "        vertical-align: top;\n",
              "    }\n",
              "\n",
              "    .dataframe thead th {\n",
              "        text-align: right;\n",
              "    }\n",
              "</style>\n",
              "<table border=\"1\" class=\"dataframe\">\n",
              "  <thead>\n",
              "    <tr style=\"text-align: right;\">\n",
              "      <th></th>\n",
              "      <th>bathrooms</th>\n",
              "      <th>bedrooms</th>\n",
              "      <th>created</th>\n",
              "      <th>description</th>\n",
              "      <th>display_address</th>\n",
              "      <th>latitude</th>\n",
              "      <th>longitude</th>\n",
              "      <th>price</th>\n",
              "      <th>street_address</th>\n",
              "      <th>interest_level</th>\n",
              "      <th>elevator</th>\n",
              "      <th>cats_allowed</th>\n",
              "      <th>hardwood_floors</th>\n",
              "      <th>dogs_allowed</th>\n",
              "      <th>doorman</th>\n",
              "      <th>dishwasher</th>\n",
              "      <th>no_fee</th>\n",
              "      <th>laundry_in_building</th>\n",
              "      <th>fitness_center</th>\n",
              "      <th>pre-war</th>\n",
              "      <th>laundry_in_unit</th>\n",
              "      <th>roof_deck</th>\n",
              "      <th>outdoor_space</th>\n",
              "      <th>dining_room</th>\n",
              "      <th>high_speed_internet</th>\n",
              "      <th>balcony</th>\n",
              "      <th>swimming_pool</th>\n",
              "      <th>new_construction</th>\n",
              "      <th>terrace</th>\n",
              "      <th>exclusive</th>\n",
              "      <th>loft</th>\n",
              "      <th>garden_patio</th>\n",
              "      <th>wheelchair_access</th>\n",
              "      <th>common_outdoor_space</th>\n",
              "    </tr>\n",
              "  </thead>\n",
              "  <tbody>\n",
              "    <tr>\n",
              "      <th>0</th>\n",
              "      <td>1.5</td>\n",
              "      <td>3</td>\n",
              "      <td>2016-06-24 07:54:24</td>\n",
              "      <td>A Brand New 3 Bedroom 1.5 bath ApartmentEnjoy ...</td>\n",
              "      <td>Metropolitan Avenue</td>\n",
              "      <td>40.7145</td>\n",
              "      <td>-73.9425</td>\n",
              "      <td>3000</td>\n",
              "      <td>792 Metropolitan Avenue</td>\n",
              "      <td>medium</td>\n",
              "      <td>0</td>\n",
              "      <td>0</td>\n",
              "      <td>0</td>\n",
              "      <td>0</td>\n",
              "      <td>0</td>\n",
              "      <td>0</td>\n",
              "      <td>0</td>\n",
              "      <td>0</td>\n",
              "      <td>0</td>\n",
              "      <td>0</td>\n",
              "      <td>0</td>\n",
              "      <td>0</td>\n",
              "      <td>0</td>\n",
              "      <td>0</td>\n",
              "      <td>0</td>\n",
              "      <td>0</td>\n",
              "      <td>0</td>\n",
              "      <td>0</td>\n",
              "      <td>0</td>\n",
              "      <td>0</td>\n",
              "      <td>0</td>\n",
              "      <td>0</td>\n",
              "      <td>0</td>\n",
              "      <td>0</td>\n",
              "    </tr>\n",
              "    <tr>\n",
              "      <th>1</th>\n",
              "      <td>1.0</td>\n",
              "      <td>2</td>\n",
              "      <td>2016-06-12 12:19:27</td>\n",
              "      <td></td>\n",
              "      <td>Columbus Avenue</td>\n",
              "      <td>40.7947</td>\n",
              "      <td>-73.9667</td>\n",
              "      <td>5465</td>\n",
              "      <td>808 Columbus Avenue</td>\n",
              "      <td>low</td>\n",
              "      <td>1</td>\n",
              "      <td>1</td>\n",
              "      <td>0</td>\n",
              "      <td>1</td>\n",
              "      <td>1</td>\n",
              "      <td>0</td>\n",
              "      <td>0</td>\n",
              "      <td>0</td>\n",
              "      <td>1</td>\n",
              "      <td>0</td>\n",
              "      <td>0</td>\n",
              "      <td>0</td>\n",
              "      <td>0</td>\n",
              "      <td>0</td>\n",
              "      <td>0</td>\n",
              "      <td>0</td>\n",
              "      <td>0</td>\n",
              "      <td>0</td>\n",
              "      <td>0</td>\n",
              "      <td>0</td>\n",
              "      <td>0</td>\n",
              "      <td>0</td>\n",
              "      <td>0</td>\n",
              "      <td>0</td>\n",
              "    </tr>\n",
              "    <tr>\n",
              "      <th>2</th>\n",
              "      <td>1.0</td>\n",
              "      <td>1</td>\n",
              "      <td>2016-04-17 03:26:41</td>\n",
              "      <td>Top Top West Village location, beautiful Pre-w...</td>\n",
              "      <td>W 13 Street</td>\n",
              "      <td>40.7388</td>\n",
              "      <td>-74.0018</td>\n",
              "      <td>2850</td>\n",
              "      <td>241 W 13 Street</td>\n",
              "      <td>high</td>\n",
              "      <td>0</td>\n",
              "      <td>0</td>\n",
              "      <td>1</td>\n",
              "      <td>0</td>\n",
              "      <td>0</td>\n",
              "      <td>1</td>\n",
              "      <td>0</td>\n",
              "      <td>1</td>\n",
              "      <td>0</td>\n",
              "      <td>0</td>\n",
              "      <td>0</td>\n",
              "      <td>0</td>\n",
              "      <td>0</td>\n",
              "      <td>0</td>\n",
              "      <td>0</td>\n",
              "      <td>0</td>\n",
              "      <td>0</td>\n",
              "      <td>0</td>\n",
              "      <td>0</td>\n",
              "      <td>0</td>\n",
              "      <td>0</td>\n",
              "      <td>0</td>\n",
              "      <td>0</td>\n",
              "      <td>0</td>\n",
              "    </tr>\n",
              "    <tr>\n",
              "      <th>3</th>\n",
              "      <td>1.0</td>\n",
              "      <td>1</td>\n",
              "      <td>2016-04-18 02:22:02</td>\n",
              "      <td>Building Amenities - Garage - Garden - fitness...</td>\n",
              "      <td>East 49th Street</td>\n",
              "      <td>40.7539</td>\n",
              "      <td>-73.9677</td>\n",
              "      <td>3275</td>\n",
              "      <td>333 East 49th Street</td>\n",
              "      <td>low</td>\n",
              "      <td>0</td>\n",
              "      <td>0</td>\n",
              "      <td>1</td>\n",
              "      <td>0</td>\n",
              "      <td>0</td>\n",
              "      <td>0</td>\n",
              "      <td>1</td>\n",
              "      <td>0</td>\n",
              "      <td>0</td>\n",
              "      <td>0</td>\n",
              "      <td>0</td>\n",
              "      <td>0</td>\n",
              "      <td>0</td>\n",
              "      <td>0</td>\n",
              "      <td>0</td>\n",
              "      <td>0</td>\n",
              "      <td>0</td>\n",
              "      <td>0</td>\n",
              "      <td>0</td>\n",
              "      <td>0</td>\n",
              "      <td>0</td>\n",
              "      <td>0</td>\n",
              "      <td>0</td>\n",
              "      <td>0</td>\n",
              "    </tr>\n",
              "    <tr>\n",
              "      <th>4</th>\n",
              "      <td>1.0</td>\n",
              "      <td>4</td>\n",
              "      <td>2016-04-28 01:32:41</td>\n",
              "      <td>Beautifully renovated 3 bedroom flex 4 bedroom...</td>\n",
              "      <td>West 143rd Street</td>\n",
              "      <td>40.8241</td>\n",
              "      <td>-73.9493</td>\n",
              "      <td>3350</td>\n",
              "      <td>500 West 143rd Street</td>\n",
              "      <td>low</td>\n",
              "      <td>0</td>\n",
              "      <td>0</td>\n",
              "      <td>0</td>\n",
              "      <td>0</td>\n",
              "      <td>0</td>\n",
              "      <td>0</td>\n",
              "      <td>0</td>\n",
              "      <td>0</td>\n",
              "      <td>0</td>\n",
              "      <td>1</td>\n",
              "      <td>0</td>\n",
              "      <td>0</td>\n",
              "      <td>0</td>\n",
              "      <td>0</td>\n",
              "      <td>0</td>\n",
              "      <td>0</td>\n",
              "      <td>0</td>\n",
              "      <td>0</td>\n",
              "      <td>0</td>\n",
              "      <td>0</td>\n",
              "      <td>0</td>\n",
              "      <td>0</td>\n",
              "      <td>0</td>\n",
              "      <td>0</td>\n",
              "    </tr>\n",
              "    <tr>\n",
              "      <th>5</th>\n",
              "      <td>2.0</td>\n",
              "      <td>4</td>\n",
              "      <td>2016-04-19 04:24:47</td>\n",
              "      <td></td>\n",
              "      <td>West 18th Street</td>\n",
              "      <td>40.7429</td>\n",
              "      <td>-74.0028</td>\n",
              "      <td>7995</td>\n",
              "      <td>350 West 18th Street</td>\n",
              "      <td>medium</td>\n",
              "      <td>0</td>\n",
              "      <td>0</td>\n",
              "      <td>0</td>\n",
              "      <td>0</td>\n",
              "      <td>0</td>\n",
              "      <td>0</td>\n",
              "      <td>0</td>\n",
              "      <td>0</td>\n",
              "      <td>0</td>\n",
              "      <td>0</td>\n",
              "      <td>0</td>\n",
              "      <td>0</td>\n",
              "      <td>0</td>\n",
              "      <td>0</td>\n",
              "      <td>0</td>\n",
              "      <td>0</td>\n",
              "      <td>0</td>\n",
              "      <td>0</td>\n",
              "      <td>0</td>\n",
              "      <td>0</td>\n",
              "      <td>0</td>\n",
              "      <td>0</td>\n",
              "      <td>0</td>\n",
              "      <td>0</td>\n",
              "    </tr>\n",
              "  </tbody>\n",
              "</table>\n",
              "</div>"
            ],
            "text/plain": [
              "   bathrooms  bedrooms  ... wheelchair_access common_outdoor_space\n",
              "0        1.5         3  ...                 0                    0\n",
              "1        1.0         2  ...                 0                    0\n",
              "2        1.0         1  ...                 0                    0\n",
              "3        1.0         1  ...                 0                    0\n",
              "4        1.0         4  ...                 0                    0\n",
              "5        2.0         4  ...                 0                    0\n",
              "\n",
              "[6 rows x 34 columns]"
            ]
          },
          "metadata": {
            "tags": []
          },
          "execution_count": 126
        }
      ]
    },
    {
      "cell_type": "code",
      "metadata": {
        "colab": {
          "base_uri": "https://localhost:8080/",
          "height": 280
        },
        "id": "ZIJtzrrV701c",
        "outputId": "8e293d71-51a4-4a44-90ff-6a88fa3076c8"
      },
      "source": [
        "#pick a feature and plot relation with target \r\n",
        "#choose feature, target\r\n",
        "import matplotlib.pyplot as plt\r\n",
        "#setting a baseline to compare my predictor to\r\n",
        "y = df['price']\r\n",
        "y_mean = y.mean()\r\n",
        "y_pred = [y_mean] * len(y)\r\n",
        "plt.scatter(df['latitude'],df['price'])\r\n",
        "plt.plot(df['latitude'],y_pred,label='avg as basline',color='black')\r\n",
        "plt.xlabel('Latitude')\r\n",
        "plt.ylabel('Price');"
      ],
      "execution_count": 127,
      "outputs": [
        {
          "output_type": "display_data",
          "data": {
            "image/png": "[encoded data removed]",
            "text/plain": [
              "<Figure size 432x288 with 1 Axes>"
            ]
          },
          "metadata": {
            "tags": [],
            "needs_background": "light"
          }
        }
      ]
    },
    {
      "cell_type": "code",
      "metadata": {
        "colab": {
          "base_uri": "https://localhost:8080/"
        },
        "id": "DvKH620xGB9D",
        "outputId": "a7601e9c-db8b-4ffa-a5fc-4092402916bd"
      },
      "source": [
        "# the MAE to compare my preditor to \r\n",
        "from sklearn.metrics import mean_absolute_error\r\n",
        "print('baseline MAE: ',mean_absolute_error(y,y_pred))"
      ],
      "execution_count": 128,
      "outputs": [
        {
          "output_type": "stream",
          "text": [
            "baseline MAE:  1201.5251847945751\n"
          ],
          "name": "stdout"
        }
      ]
    },
    {
      "cell_type": "code",
      "metadata": {
        "colab": {
          "base_uri": "https://localhost:8080/"
        },
        "id": "m-L_Qt51-60w",
        "outputId": "b87c9f6f-ddf8-41f2-b977-df6aaada965e"
      },
      "source": [
        "#Use scikit-learn linear regression with one feature \r\n",
        "# following Jake VanderPlas 5 step process\r\n",
        "# 1. Choose class of model and import from Scikit-learn\r\n",
        "from sklearn.linear_model import LinearRegression\r\n",
        "# 2. Choose model hyperparamets by instantiating model with desired values\r\n",
        "model = LinearRegression()\r\n",
        "# 3. Arrange data into feature matrix, and target vector\r\n",
        "X = df[['latitude']] \r\n",
        "y = df['price']\r\n",
        "# 4. Fit the model\r\n",
        "model.fit(X,y)\r\n",
        "print(f'latitude coef:{model.coef_}')\r\n",
        "print(f'model intercept:{model.intercept_}')\r\n",
        "# 5. Apply model to new data\r\n",
        "model.predict([[40.7],[39.01],[40.89],[41.42]])"
      ],
      "execution_count": 129,
      "outputs": [
        {
          "output_type": "stream",
          "text": [
            "latitude coef:[-1638.14190247]\n",
            "model intercept:70335.08264693896\n"
          ],
          "name": "stdout"
        },
        {
          "output_type": "execute_result",
          "data": {
            "text/plain": [
              "array([3662.70721642, 6431.16703159, 3351.46025495, 2483.24504664])"
            ]
          },
          "metadata": {
            "tags": []
          },
          "execution_count": 129
        }
      ]
    },
    {
      "cell_type": "code",
      "metadata": {
        "colab": {
          "base_uri": "https://localhost:8080/"
        },
        "id": "0PXYBkDKEWcZ",
        "outputId": "8d26abef-fd8e-4228-d3d8-79adcbf833c8"
      },
      "source": [
        "# Define a function to make new predictions and explain the model coefficient\r\n",
        "print(f'Price = {model.intercept_.round(3)} + {model.coef_[0].round(3)} * latitude')\r\n",
        "# model coef explained: for every +1 unit change in latitude, price will change -1638.142 dollars. "
      ],
      "execution_count": 130,
      "outputs": [
        {
          "output_type": "stream",
          "text": [
            "Price = 70335.083 + -1638.142 * latitude\n"
          ],
          "name": "stdout"
        }
      ]
    },
    {
      "cell_type": "code",
      "metadata": {
        "colab": {
          "base_uri": "https://localhost:8080/",
          "height": 298
        },
        "id": "nlTROCrdK3Je",
        "outputId": "f062c273-b120-48c6-d731-73de375538d1"
      },
      "source": [
        "# compare baseline to predictor model\r\n",
        "plt.scatter(df['latitude'],df['price'])\r\n",
        "plt.plot(df['latitude'],y_pred,label='avg as basline',color='black')\r\n",
        "plt.plot(df['latitude'], model.predict(X),label='linear model', color='red')\r\n",
        "plt.xlabel('Latitude')\r\n",
        "plt.ylabel('Price')\r\n",
        "ax.legend();"
      ],
      "execution_count": 131,
      "outputs": [
        {
          "output_type": "stream",
          "text": [
            "No handles with labels found to put in legend.\n"
          ],
          "name": "stderr"
        },
        {
          "output_type": "display_data",
          "data": {
            "image/png": "[encoded data removed]",
            "text/plain": [
              "<Figure size 432x288 with 1 Axes>"
            ]
          },
          "metadata": {
            "tags": [],
            "needs_background": "light"
          }
        }
      ]
    },
    {
      "cell_type": "code",
      "metadata": {
        "colab": {
          "base_uri": "https://localhost:8080/"
        },
        "id": "0doEv7M-NCQ8",
        "outputId": "03c29fe7-16ca-43ee-c223-175d8f8a4fb6"
      },
      "source": [
        "# Hard to visual see IF our model is better than the baseline so lets compare the MAE\r\n",
        "print('Training MAE:', mean_absolute_error(y,model.predict(X)))\r\n",
        "print('Baseline MAE:',mean_absolute_error(y,y_pred))"
      ],
      "execution_count": 132,
      "outputs": [
        {
          "output_type": "stream",
          "text": [
            "Training MAE: 1199.0473456069935\n",
            "Baseline MAE: 1201.5251847945751\n"
          ],
          "name": "stdout"
        }
      ]
    },
    {
      "cell_type": "markdown",
      "metadata": {
        "id": "xzyYDeGBOkL6"
      },
      "source": [
        "Final thoughts on latitude as a predictor feature? \r\n",
        "The model I created seemed to barely improve upon the baseline and they may communicate that I selected a poor feature for a uni-variate linear regression model, lets choose another and see if it works better"
      ]
    },
    {
      "cell_type": "code",
      "metadata": {
        "colab": {
          "base_uri": "https://localhost:8080/"
        },
        "id": "4XaMW9i7NkBA",
        "outputId": "72c33e47-8054-4b05-b10d-5f31d3a2ec97"
      },
      "source": [
        "# lets test this with 2 variables now, lets pick longitude to go along with our other\r\n",
        "# geographical feature \r\n",
        "X_2 = df[['latitude','longitude']]\r\n",
        "print(f'latitude coef:{model.coef_}')\r\n",
        "print(f'model intercept:{model.intercept_}')\r\n",
        "model.fit(X_2,y)\r\n",
        "print('Training MAE with 2 features:', mean_absolute_error(y,model.predict(X_2)))"
      ],
      "execution_count": 146,
      "outputs": [
        {
          "output_type": "stream",
          "text": [
            "latitude coef:[  2758.74848212 -18394.98636195    879.40884148]\n",
            "model intercept:-1470921.1870513486\n",
            "Training MAE with 2 features: 1146.531815002574\n"
          ],
          "name": "stdout"
        }
      ]
    },
    {
      "cell_type": "code",
      "metadata": {
        "colab": {
          "base_uri": "https://localhost:8080/"
        },
        "id": "hOyudtxRtYje",
        "outputId": "ba6dfb30-474f-45bd-d821-3628b057629d"
      },
      "source": [
        "# New prediction formula \r\n",
        "print(f'Price = {model.intercept_.round(3)} + {model.coef_[0].round(3)} * latitude +{model.coef_[1].round(3)} * longitude')"
      ],
      "execution_count": 134,
      "outputs": [
        {
          "output_type": "stream",
          "text": [
            "Price = -1302010.405 + 2347.993 * latitude +-16356.122 * longitude\n"
          ],
          "name": "stdout"
        }
      ]
    },
    {
      "cell_type": "code",
      "metadata": {
        "colab": {
          "base_uri": "https://localhost:8080/"
        },
        "id": "h_RhULlq9DeR",
        "outputId": "60009cf7-2218-4361-dd9c-f173dc56f254"
      },
      "source": [
        "# why not try for 3 features: longitude, latitude, and bedrooms\r\n",
        "# 1. Choose class of model and import from Scikit-learn\r\n",
        "from sklearn.linear_model import LinearRegression\r\n",
        "# 2. Choose model hyperparamets by instantiating model with desired values\r\n",
        "model = LinearRegression()\r\n",
        "# 3. Arrange data into feature matrix, and target vector\r\n",
        "X_3 = df[['latitude','longitude','bedrooms']] \r\n",
        "y = df['price']\r\n",
        "# 4. Fit the model\r\n",
        "model.fit(X_3,y)\r\n",
        "print(f'latitude coef:{model.coef_}')\r\n",
        "print(f'model intercept:{model.intercept_}')\r\n"
      ],
      "execution_count": 138,
      "outputs": [
        {
          "output_type": "stream",
          "text": [
            "latitude coef:[  2758.74848212 -18394.98636195    879.40884148]\n",
            "model intercept:-1470921.1870513486\n"
          ],
          "name": "stdout"
        }
      ]
    },
    {
      "cell_type": "code",
      "metadata": {
        "colab": {
          "base_uri": "https://localhost:8080/"
        },
        "id": "xFTNeUOu-DO4",
        "outputId": "12ad83f3-5ff8-4ac4-e911-b092b911fa5f"
      },
      "source": [
        "print(f'Price = {model.intercept_.round(2)} + {model.coef_[0].round(2)} * latitude +{model.coef_[1].round(2)} * longitude + {model.coef_[2].round(2)} * bedrooms')"
      ],
      "execution_count": 139,
      "outputs": [
        {
          "output_type": "stream",
          "text": [
            "Price = -1470921.19 + 2758.75 * latitude +-18394.99 * longitude + 879.41 * bedrooms\n"
          ],
          "name": "stdout"
        }
      ]
    },
    {
      "cell_type": "code",
      "metadata": {
        "id": "7L35ME75_X4S"
      },
      "source": [
        ""
      ],
      "execution_count": null,
      "outputs": []
    }
  ]
}