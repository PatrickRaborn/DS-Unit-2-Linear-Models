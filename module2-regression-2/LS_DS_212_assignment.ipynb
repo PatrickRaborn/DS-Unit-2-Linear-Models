{
  "nbformat": 4,
  "nbformat_minor": 0,
  "metadata": {
    "kernelspec": {
      "display_name": "Python 3",
      "language": "python",
      "name": "python3"
    },
    "language_info": {
      "codemirror_mode": {
        "name": "ipython",
        "version": 3
      },
      "file_extension": ".py",
      "mimetype": "text/x-python",
      "name": "python",
      "nbconvert_exporter": "python",
      "pygments_lexer": "ipython3",
      "version": "3.7.3"
    },
    "colab": {
      "name": "LS_DS_212_assignment.ipynb",
      "provenance": []
    }
  },
  "cells": [
    {
      "cell_type": "markdown",
      "metadata": {
        "id": "p4zcwf1qgBld"
      },
      "source": [
        "Lambda School Data Science\n",
        "\n",
        "*Unit 2, Sprint 1, Module 2*\n",
        "\n",
        "---"
      ]
    },
    {
      "cell_type": "markdown",
      "metadata": {
        "id": "7IXUfiQ2UKj6"
      },
      "source": [
        "# Regression 2\n",
        "\n",
        "## Assignment\n",
        "\n",
        "You'll continue to **predict how much it costs to rent an apartment in NYC,** using the dataset from renthop.com.\n",
        "\n",
        "- [X] Do train/test split. Use data from April & May 2016 to train. Use data from June 2016 to test.\n",
        "- [X] Engineer at least two new features. (See below for explanation & ideas.)\n",
        "- [X] Fit a linear regression model with at least two features.\n",
        "- [X] Get the model's coefficients and intercept.\n",
        "- [X] Get regression metrics RMSE, MAE, and $R^2$, for both the train and test data.\n",
        "- [X] What's the best test MAE you can get? Share your score and features used with your cohort on Slack!\n",
        "- [X] As always, commit your notebook to your fork of the GitHub repo.\n",
        "\n",
        "\n",
        "#### [Feature Engineering](https://en.wikipedia.org/wiki/Feature_engineering)\n",
        "\n",
        "> \"Some machine learning projects succeed and some fail. What makes the difference? Easily the most important factor is the features used.\" — Pedro Domingos, [\"A Few Useful Things to Know about Machine Learning\"](https://homes.cs.washington.edu/~pedrod/papers/cacm12.pdf)\n",
        "\n",
        "> \"Coming up with features is difficult, time-consuming, requires expert knowledge. 'Applied machine learning' is basically feature engineering.\" — Andrew Ng, [Machine Learning and AI via Brain simulations](https://forum.stanford.edu/events/2011/2011slides/plenary/2011plenaryNg.pdf) \n",
        "\n",
        "> Feature engineering is the process of using domain knowledge of the data to create features that make machine learning algorithms work. \n",
        "\n",
        "#### Feature Ideas\n",
        "- Does the apartment have a description?\n",
        "- How long is the description?\n",
        "- How many total perks does each apartment have?\n",
        "- Are cats _or_ dogs allowed?\n",
        "- Are cats _and_ dogs allowed?\n",
        "- Total number of rooms (beds + baths)\n",
        "- Ratio of beds to baths\n",
        "- What's the neighborhood, based on address or latitude & longitude?\n",
        "\n",
        "## Stretch Goals\n",
        "- [ ] If you want more math, skim [_An Introduction to Statistical Learning_](http://faculty.marshall.usc.edu/gareth-james/ISL/ISLR%20Seventh%20Printing.pdf),  Chapter 3.1, Simple Linear Regression, & Chapter 3.2, Multiple Linear Regression\n",
        "- [ ] If you want more introduction, watch [Brandon Foltz, Statistics 101: Simple Linear Regression](https://www.youtube.com/watch?v=ZkjP5RJLQF4)\n",
        "(20 minutes, over 1 million views)\n",
        "- [ ] Add your own stretch goal(s) !"
      ]
    },
    {
      "cell_type": "code",
      "metadata": {
        "id": "o9eSnDYhUGD7"
      },
      "source": [
        "%%capture\n",
        "import sys\n",
        "\n",
        "# If you're on Colab:\n",
        "if 'google.colab' in sys.modules:\n",
        "    DATA_PATH = 'https://raw.githubusercontent.com/LambdaSchool/DS-Unit-2-Applied-Modeling/master/data/'\n",
        "    !pip install category_encoders==2.*\n",
        "\n",
        "# If you're working locally:\n",
        "else:\n",
        "    DATA_PATH = '../data/'\n",
        "    \n",
        "# Ignore this Numpy warning when using Plotly Express:\n",
        "# FutureWarning: Method .ptp is deprecated and will be removed in a future version. Use numpy.ptp instead.\n",
        "import warnings\n",
        "warnings.filterwarnings(action='ignore', category=FutureWarning, module='numpy')"
      ],
      "execution_count": 78,
      "outputs": []
    },
    {
      "cell_type": "code",
      "metadata": {
        "id": "cvrw-T3bZOuW"
      },
      "source": [
        "import numpy as np\n",
        "import pandas as pd\n",
        "\n",
        "# Read New York City apartment rental listing data\n",
        "\n",
        "df = pd.read_csv(DATA_PATH+'apartments/renthop-nyc.csv',\n",
        "                 parse_dates=['created'])\n",
        "assert df.shape == (49352, 34)\n",
        "\n",
        "# Remove the most extreme 1% prices,\n",
        "# the most extreme .1% latitudes, &\n",
        "# the most extreme .1% longitudes\n",
        "df = df[(df['price'] >= np.percentile(df['price'], 0.5)) & \n",
        "        (df['price'] <= np.percentile(df['price'], 99.5)) & \n",
        "        (df['latitude'] >= np.percentile(df['latitude'], 0.05)) & \n",
        "        (df['latitude'] < np.percentile(df['latitude'], 99.95)) &\n",
        "        (df['longitude'] >= np.percentile(df['longitude'], 0.05)) & \n",
        "        (df['longitude'] <= np.percentile(df['longitude'], 99.95))]"
      ],
      "execution_count": 79,
      "outputs": []
    },
    {
      "cell_type": "code",
      "metadata": {
        "colab": {
          "base_uri": "https://localhost:8080/",
          "height": 513
        },
        "id": "uZqCgzlybqBI",
        "outputId": "356bc463-3aa8-4a51-a13b-c2156b3e47bf"
      },
      "source": [
        "df.head()"
      ],
      "execution_count": 80,
      "outputs": [
        {
          "output_type": "execute_result",
          "data": {
            "text/html": [
              "<div>\n",
              "<style scoped>\n",
              "    .dataframe tbody tr th:only-of-type {\n",
              "        vertical-align: middle;\n",
              "    }\n",
              "\n",
              "    .dataframe tbody tr th {\n",
              "        vertical-align: top;\n",
              "    }\n",
              "\n",
              "    .dataframe thead th {\n",
              "        text-align: right;\n",
              "    }\n",
              "</style>\n",
              "<table border=\"1\" class=\"dataframe\">\n",
              "  <thead>\n",
              "    <tr style=\"text-align: right;\">\n",
              "      <th></th>\n",
              "      <th>bathrooms</th>\n",
              "      <th>bedrooms</th>\n",
              "      <th>created</th>\n",
              "      <th>description</th>\n",
              "      <th>display_address</th>\n",
              "      <th>latitude</th>\n",
              "      <th>longitude</th>\n",
              "      <th>price</th>\n",
              "      <th>street_address</th>\n",
              "      <th>interest_level</th>\n",
              "      <th>elevator</th>\n",
              "      <th>cats_allowed</th>\n",
              "      <th>hardwood_floors</th>\n",
              "      <th>dogs_allowed</th>\n",
              "      <th>doorman</th>\n",
              "      <th>dishwasher</th>\n",
              "      <th>no_fee</th>\n",
              "      <th>laundry_in_building</th>\n",
              "      <th>fitness_center</th>\n",
              "      <th>pre-war</th>\n",
              "      <th>laundry_in_unit</th>\n",
              "      <th>roof_deck</th>\n",
              "      <th>outdoor_space</th>\n",
              "      <th>dining_room</th>\n",
              "      <th>high_speed_internet</th>\n",
              "      <th>balcony</th>\n",
              "      <th>swimming_pool</th>\n",
              "      <th>new_construction</th>\n",
              "      <th>terrace</th>\n",
              "      <th>exclusive</th>\n",
              "      <th>loft</th>\n",
              "      <th>garden_patio</th>\n",
              "      <th>wheelchair_access</th>\n",
              "      <th>common_outdoor_space</th>\n",
              "    </tr>\n",
              "  </thead>\n",
              "  <tbody>\n",
              "    <tr>\n",
              "      <th>0</th>\n",
              "      <td>1.5</td>\n",
              "      <td>3</td>\n",
              "      <td>2016-06-24 07:54:24</td>\n",
              "      <td>A Brand New 3 Bedroom 1.5 bath ApartmentEnjoy ...</td>\n",
              "      <td>Metropolitan Avenue</td>\n",
              "      <td>40.7145</td>\n",
              "      <td>-73.9425</td>\n",
              "      <td>3000</td>\n",
              "      <td>792 Metropolitan Avenue</td>\n",
              "      <td>medium</td>\n",
              "      <td>0</td>\n",
              "      <td>0</td>\n",
              "      <td>0</td>\n",
              "      <td>0</td>\n",
              "      <td>0</td>\n",
              "      <td>0</td>\n",
              "      <td>0</td>\n",
              "      <td>0</td>\n",
              "      <td>0</td>\n",
              "      <td>0</td>\n",
              "      <td>0</td>\n",
              "      <td>0</td>\n",
              "      <td>0</td>\n",
              "      <td>0</td>\n",
              "      <td>0</td>\n",
              "      <td>0</td>\n",
              "      <td>0</td>\n",
              "      <td>0</td>\n",
              "      <td>0</td>\n",
              "      <td>0</td>\n",
              "      <td>0</td>\n",
              "      <td>0</td>\n",
              "      <td>0</td>\n",
              "      <td>0</td>\n",
              "    </tr>\n",
              "    <tr>\n",
              "      <th>1</th>\n",
              "      <td>1.0</td>\n",
              "      <td>2</td>\n",
              "      <td>2016-06-12 12:19:27</td>\n",
              "      <td></td>\n",
              "      <td>Columbus Avenue</td>\n",
              "      <td>40.7947</td>\n",
              "      <td>-73.9667</td>\n",
              "      <td>5465</td>\n",
              "      <td>808 Columbus Avenue</td>\n",
              "      <td>low</td>\n",
              "      <td>1</td>\n",
              "      <td>1</td>\n",
              "      <td>0</td>\n",
              "      <td>1</td>\n",
              "      <td>1</td>\n",
              "      <td>0</td>\n",
              "      <td>0</td>\n",
              "      <td>0</td>\n",
              "      <td>1</td>\n",
              "      <td>0</td>\n",
              "      <td>0</td>\n",
              "      <td>0</td>\n",
              "      <td>0</td>\n",
              "      <td>0</td>\n",
              "      <td>0</td>\n",
              "      <td>0</td>\n",
              "      <td>0</td>\n",
              "      <td>0</td>\n",
              "      <td>0</td>\n",
              "      <td>0</td>\n",
              "      <td>0</td>\n",
              "      <td>0</td>\n",
              "      <td>0</td>\n",
              "      <td>0</td>\n",
              "    </tr>\n",
              "    <tr>\n",
              "      <th>2</th>\n",
              "      <td>1.0</td>\n",
              "      <td>1</td>\n",
              "      <td>2016-04-17 03:26:41</td>\n",
              "      <td>Top Top West Village location, beautiful Pre-w...</td>\n",
              "      <td>W 13 Street</td>\n",
              "      <td>40.7388</td>\n",
              "      <td>-74.0018</td>\n",
              "      <td>2850</td>\n",
              "      <td>241 W 13 Street</td>\n",
              "      <td>high</td>\n",
              "      <td>0</td>\n",
              "      <td>0</td>\n",
              "      <td>1</td>\n",
              "      <td>0</td>\n",
              "      <td>0</td>\n",
              "      <td>1</td>\n",
              "      <td>0</td>\n",
              "      <td>1</td>\n",
              "      <td>0</td>\n",
              "      <td>0</td>\n",
              "      <td>0</td>\n",
              "      <td>0</td>\n",
              "      <td>0</td>\n",
              "      <td>0</td>\n",
              "      <td>0</td>\n",
              "      <td>0</td>\n",
              "      <td>0</td>\n",
              "      <td>0</td>\n",
              "      <td>0</td>\n",
              "      <td>0</td>\n",
              "      <td>0</td>\n",
              "      <td>0</td>\n",
              "      <td>0</td>\n",
              "      <td>0</td>\n",
              "    </tr>\n",
              "    <tr>\n",
              "      <th>3</th>\n",
              "      <td>1.0</td>\n",
              "      <td>1</td>\n",
              "      <td>2016-04-18 02:22:02</td>\n",
              "      <td>Building Amenities - Garage - Garden - fitness...</td>\n",
              "      <td>East 49th Street</td>\n",
              "      <td>40.7539</td>\n",
              "      <td>-73.9677</td>\n",
              "      <td>3275</td>\n",
              "      <td>333 East 49th Street</td>\n",
              "      <td>low</td>\n",
              "      <td>0</td>\n",
              "      <td>0</td>\n",
              "      <td>1</td>\n",
              "      <td>0</td>\n",
              "      <td>0</td>\n",
              "      <td>0</td>\n",
              "      <td>1</td>\n",
              "      <td>0</td>\n",
              "      <td>0</td>\n",
              "      <td>0</td>\n",
              "      <td>0</td>\n",
              "      <td>0</td>\n",
              "      <td>0</td>\n",
              "      <td>0</td>\n",
              "      <td>0</td>\n",
              "      <td>0</td>\n",
              "      <td>0</td>\n",
              "      <td>0</td>\n",
              "      <td>0</td>\n",
              "      <td>0</td>\n",
              "      <td>0</td>\n",
              "      <td>0</td>\n",
              "      <td>0</td>\n",
              "      <td>0</td>\n",
              "    </tr>\n",
              "    <tr>\n",
              "      <th>4</th>\n",
              "      <td>1.0</td>\n",
              "      <td>4</td>\n",
              "      <td>2016-04-28 01:32:41</td>\n",
              "      <td>Beautifully renovated 3 bedroom flex 4 bedroom...</td>\n",
              "      <td>West 143rd Street</td>\n",
              "      <td>40.8241</td>\n",
              "      <td>-73.9493</td>\n",
              "      <td>3350</td>\n",
              "      <td>500 West 143rd Street</td>\n",
              "      <td>low</td>\n",
              "      <td>0</td>\n",
              "      <td>0</td>\n",
              "      <td>0</td>\n",
              "      <td>0</td>\n",
              "      <td>0</td>\n",
              "      <td>0</td>\n",
              "      <td>0</td>\n",
              "      <td>0</td>\n",
              "      <td>0</td>\n",
              "      <td>1</td>\n",
              "      <td>0</td>\n",
              "      <td>0</td>\n",
              "      <td>0</td>\n",
              "      <td>0</td>\n",
              "      <td>0</td>\n",
              "      <td>0</td>\n",
              "      <td>0</td>\n",
              "      <td>0</td>\n",
              "      <td>0</td>\n",
              "      <td>0</td>\n",
              "      <td>0</td>\n",
              "      <td>0</td>\n",
              "      <td>0</td>\n",
              "      <td>0</td>\n",
              "    </tr>\n",
              "  </tbody>\n",
              "</table>\n",
              "</div>"
            ],
            "text/plain": [
              "   bathrooms  bedrooms  ... wheelchair_access common_outdoor_space\n",
              "0        1.5         3  ...                 0                    0\n",
              "1        1.0         2  ...                 0                    0\n",
              "2        1.0         1  ...                 0                    0\n",
              "3        1.0         1  ...                 0                    0\n",
              "4        1.0         4  ...                 0                    0\n",
              "\n",
              "[5 rows x 34 columns]"
            ]
          },
          "metadata": {
            "tags": []
          },
          "execution_count": 80
        }
      ]
    },
    {
      "cell_type": "code",
      "metadata": {
        "colab": {
          "base_uri": "https://localhost:8080/"
        },
        "id": "MiQuA7Vgbsa1",
        "outputId": "945dc283-93ad-48b2-decd-3a236e334e37"
      },
      "source": [
        "df.info()"
      ],
      "execution_count": 94,
      "outputs": [
        {
          "output_type": "stream",
          "text": [
            "<class 'pandas.core.frame.DataFrame'>\n",
            "Int64Index: 48817 entries, 0 to 49351\n",
            "Data columns (total 37 columns):\n",
            " #   Column                Non-Null Count  Dtype         \n",
            "---  ------                --------------  -----         \n",
            " 0   bathrooms             48817 non-null  float64       \n",
            " 1   bedrooms              48817 non-null  int64         \n",
            " 2   created               48817 non-null  datetime64[ns]\n",
            " 3   description           47392 non-null  object        \n",
            " 4   display_address       48684 non-null  object        \n",
            " 5   latitude              48817 non-null  float64       \n",
            " 6   longitude             48817 non-null  float64       \n",
            " 7   price                 48817 non-null  int64         \n",
            " 8   street_address        48807 non-null  object        \n",
            " 9   interest_level        48817 non-null  object        \n",
            " 10  elevator              48817 non-null  int64         \n",
            " 11  cats_allowed          48817 non-null  int64         \n",
            " 12  hardwood_floors       48817 non-null  int64         \n",
            " 13  dogs_allowed          48817 non-null  int64         \n",
            " 14  doorman               48817 non-null  int64         \n",
            " 15  dishwasher            48817 non-null  int64         \n",
            " 16  no_fee                48817 non-null  int64         \n",
            " 17  laundry_in_building   48817 non-null  int64         \n",
            " 18  fitness_center        48817 non-null  int64         \n",
            " 19  pre-war               48817 non-null  int64         \n",
            " 20  laundry_in_unit       48817 non-null  int64         \n",
            " 21  roof_deck             48817 non-null  int64         \n",
            " 22  outdoor_space         48817 non-null  int64         \n",
            " 23  dining_room           48817 non-null  int64         \n",
            " 24  high_speed_internet   48817 non-null  int64         \n",
            " 25  balcony               48817 non-null  int64         \n",
            " 26  swimming_pool         48817 non-null  int64         \n",
            " 27  new_construction      48817 non-null  int64         \n",
            " 28  terrace               48817 non-null  int64         \n",
            " 29  exclusive             48817 non-null  int64         \n",
            " 30  loft                  48817 non-null  int64         \n",
            " 31  garden_patio          48817 non-null  int64         \n",
            " 32  wheelchair_access     48817 non-null  int64         \n",
            " 33  common_outdoor_space  48817 non-null  int64         \n",
            " 34  total_rooms           48817 non-null  float64       \n",
            " 35  total_ammenities      48817 non-null  int64         \n",
            " 36  month_year            48817 non-null  period[M]     \n",
            "dtypes: datetime64[ns](1), float64(4), int64(27), object(4), period[M](1)\n",
            "memory usage: 14.2+ MB\n"
          ],
          "name": "stdout"
        }
      ]
    },
    {
      "cell_type": "code",
      "metadata": {
        "colab": {
          "base_uri": "https://localhost:8080/"
        },
        "id": "aa1PFFteizD0",
        "outputId": "5129efa1-9266-4036-9414-ecd3cbf7ec32"
      },
      "source": [
        "# create 2 new features\r\n",
        "# lets create a total rooms column by adding bathrooms and bedrooms\r\n",
        "df['total_rooms'] = df['bathrooms'] + df['bedrooms']\r\n",
        "df['total_rooms']\r\n",
        "# lets create a total ammenities column by adding up all the ammenities \r\n",
        "ammenities = df['elevator'],df['hardwood_floors'],df['doorman'],df['dishwasher'],df['laundry_in_building'],df['laundry_in_unit'],df['roof_deck'],df['outdoor_space'],df['dining_room'],df['high_speed_internet'],df['balcony'],df['swimming_pool'],df['fitness_center'],df['terrace'],df['garden_patio'],df['common_outdoor_space'],df['wheelchair_access']\r\n",
        "df['total_ammenities'] = sum(ammenities)\r\n",
        "df['total_ammenities'].value_counts()"
      ],
      "execution_count": 82,
      "outputs": [
        {
          "output_type": "execute_result",
          "data": {
            "text/plain": [
              "0     11490\n",
              "1      7271\n",
              "2      6537\n",
              "3      5811\n",
              "4      4154\n",
              "5      3416\n",
              "6      3325\n",
              "7      2350\n",
              "8      1650\n",
              "9      1262\n",
              "10      793\n",
              "11      420\n",
              "12      215\n",
              "13       98\n",
              "14       25\n",
              "Name: total_ammenities, dtype: int64"
            ]
          },
          "metadata": {
            "tags": []
          },
          "execution_count": 82
        }
      ]
    },
    {
      "cell_type": "code",
      "metadata": {
        "colab": {
          "base_uri": "https://localhost:8080/"
        },
        "id": "NEPn5Y1luXUO",
        "outputId": "1e96c6bd-d185-4718-a64b-4e18f1c8a0f7"
      },
      "source": [
        "#lets extract the month and year from the 'created' column\r\n",
        "df['month_year'] = pd.to_datetime(df['created']).dt.to_period('M')\r\n",
        "df['month_year'].value_counts() #verified I got the results I was looking for "
      ],
      "execution_count": 83,
      "outputs": [
        {
          "output_type": "execute_result",
          "data": {
            "text/plain": [
              "2016-06    16973\n",
              "2016-04    16217\n",
              "2016-05    15627\n",
              "Freq: M, Name: month_year, dtype: int64"
            ]
          },
          "metadata": {
            "tags": []
          },
          "execution_count": 83
        }
      ]
    },
    {
      "cell_type": "code",
      "metadata": {
        "id": "od_uj1vWdE6V"
      },
      "source": [
        "# split target vector and feature matrix\r\n",
        "y = df['price'] # our target\r\n",
        "X = df[['total_ammenities','total_rooms']] # I'll use the features I created \r\n",
        "# split data train/test\r\n",
        "cutoff =  '2016-05'\r\n",
        "mask = df['month_year'] <= cutoff\r\n",
        "X_train,y_train = X.loc[mask], y.loc[mask]\r\n",
        "X_test, y_test = X.loc[~mask], y.loc[~mask]\r\n"
      ],
      "execution_count": 109,
      "outputs": []
    },
    {
      "cell_type": "code",
      "metadata": {
        "colab": {
          "base_uri": "https://localhost:8080/"
        },
        "id": "Rc23sArD3eoZ",
        "outputId": "434d99d0-cae1-4716-b5f7-38a339be9ef7"
      },
      "source": [
        "# establish a baseline\r\n",
        "# the following are 3 different metrics used to compare baseline to model\r\n",
        "from sklearn.metrics import mean_absolute_error \r\n",
        "from sklearn.metrics import mean_squared_error\r\n",
        "from sklearn.metrics import r2_score\r\n",
        "\r\n",
        "y_pred = [y_train.mean()] * len(y_train) \r\n",
        "print('y_train mean:', y_train.mean())\r\n",
        "print('baseline MAE:',mean_absolute_error(y_train,y_pred).round(2)) # on average how far our prediction is from baseline\r\n",
        "print('baseline MSE:',mean_squared_error(y_train,y_pred).round(2)) \r\n",
        "print('baseline R2 score:',r2_score(y_train,y_pred).round(2)) # not sure if I'm using this 1 right "
      ],
      "execution_count": 110,
      "outputs": [
        {
          "output_type": "stream",
          "text": [
            "y_train mean: 3575.604007034292\n",
            "baseline MAE: 1201.88\n",
            "baseline MSE: 3105028.22\n",
            "baseline R2 score: 0.0\n"
          ],
          "name": "stdout"
        }
      ]
    },
    {
      "cell_type": "code",
      "metadata": {
        "colab": {
          "base_uri": "https://localhost:8080/"
        },
        "id": "QgE4x_oo3JtX",
        "outputId": "73b23a97-0d66-4344-b1e9-7f19022dde67"
      },
      "source": [
        "# build my model \r\n",
        "from sklearn.linear_model import LinearRegression\r\n",
        "# instantiate the model \r\n",
        "model = LinearRegression()\r\n",
        "# fit training data to model \r\n",
        "model.fit(X_train , y_train)\r\n",
        "\r\n",
        "y_pred = model.predict(X_train)\r\n",
        "\r\n",
        "print('Train MAE:',mean_absolute_error(y_train,y_pred).round(2))\r\n",
        "print('Train MSE:',mean_squared_error(y_train,y_pred,squared=False).round(2)) \r\n",
        "print('Train R2 score:',r2_score(y_train,y_pred).round(2))"
      ],
      "execution_count": 114,
      "outputs": [
        {
          "output_type": "stream",
          "text": [
            "Train MAE: 854.47\n",
            "Train MSE: 1291.5\n",
            "Train R2 score: 0.46\n"
          ],
          "name": "stdout"
        }
      ]
    },
    {
      "cell_type": "code",
      "metadata": {
        "colab": {
          "base_uri": "https://localhost:8080/"
        },
        "id": "lMnk1BUIJIlF",
        "outputId": "efe5c5bf-fcef-4336-869e-1f5d98fafe49"
      },
      "source": [
        "# MAE train vs test\r\n",
        "print('Training MAE:',mean_absolute_error(y_train,model.predict(X_train)).round(2))\r\n",
        "print('Test MAE:', mean_absolute_error(y_test,model.predict(X_test)))\r\n"
      ],
      "execution_count": 111,
      "outputs": [
        {
          "output_type": "stream",
          "text": [
            "Training MAE: 854.47\n",
            "Test MAE: 864.8393837721005\n"
          ],
          "name": "stdout"
        }
      ]
    },
    {
      "cell_type": "code",
      "metadata": {
        "colab": {
          "base_uri": "https://localhost:8080/"
        },
        "id": "UO9afvc1QgIs",
        "outputId": "94204476-e849-4046-f965-52607f900b28"
      },
      "source": [
        "# MSE train vs test \r\n",
        "print('Train MSE:',mean_squared_error(y_train,model.predict(X_train),squared=False))\r\n",
        "print('Test MSE:',mean_squared_error(y_test,model.predict(X_test),squared=False))"
      ],
      "execution_count": 97,
      "outputs": [
        {
          "output_type": "stream",
          "text": [
            "Train MSE: 1291.5021718826847\n",
            "Test MSE: 1289.3623524132815\n"
          ],
          "name": "stdout"
        }
      ]
    },
    {
      "cell_type": "code",
      "metadata": {
        "colab": {
          "base_uri": "https://localhost:8080/"
        },
        "id": "ydMRaNiVVoyx",
        "outputId": "71e8a066-4083-410e-ca54-a221919ed945"
      },
      "source": [
        "# R-squared \r\n",
        "print('Training R^2 score:', r2_score(y_train,model.predict(X_train)))\r\n",
        "print('Test R^2 score:', r2_score(y_test,model.predict(X_test)))"
      ],
      "execution_count": 113,
      "outputs": [
        {
          "output_type": "stream",
          "text": [
            "Training R^2 score: 0.4628139446956502\n",
            "Test R^2 score: 0.46510814034121517\n"
          ],
          "name": "stdout"
        }
      ]
    },
    {
      "cell_type": "code",
      "metadata": {
        "colab": {
          "base_uri": "https://localhost:8080/"
        },
        "id": "n4kpuFwvc9Xu",
        "outputId": "b4e210f3-697f-42e7-b538-dbbb0ebe8dc9"
      },
      "source": [
        "# model coef values and intercept\r\n",
        "\r\n",
        "print(f'price = {model.intercept_} + {model.coef_[0]} * # of ammenities + {model.coef_[1]} * # of total rooms')"
      ],
      "execution_count": 116,
      "outputs": [
        {
          "output_type": "stream",
          "text": [
            "price = 1097.8969039576104 + 126.39294860552697 * # of ammenities + 763.8005703124978 * # of total rooms\n"
          ],
          "name": "stdout"
        }
      ]
    },
    {
      "cell_type": "code",
      "metadata": {
        "colab": {
          "base_uri": "https://localhost:8080/",
          "height": 283
        },
        "id": "EZkVx9bJbalO",
        "outputId": "fe0b3da8-df6a-4ce2-a218-db7be0cc2c94"
      },
      "source": [
        "pd.Series(model.coef_, index=X_train.columns).plot(kind='barh')"
      ],
      "execution_count": 115,
      "outputs": [
        {
          "output_type": "execute_result",
          "data": {
            "text/plain": [
              "<matplotlib.axes._subplots.AxesSubplot at 0x7f7f9922cba8>"
            ]
          },
          "metadata": {
            "tags": []
          },
          "execution_count": 115
        },
        {
          "output_type": "display_data",
          "data": {
            "image/png": "[encoded data removed]",
            "text/plain": [
              "<Figure size 432x288 with 1 Axes>"
            ]
          },
          "metadata": {
            "tags": [],
            "needs_background": "light"
          }
        }
      ]
    }
  ]
}